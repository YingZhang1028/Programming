{
 "cells": [
  {
   "cell_type": "markdown",
   "metadata": {},
   "source": [
    "### Run the following code to install drayscrpe\n",
    "* sudo apt-get install qt5-default libqt5webkit5-dev build-essential python-lxml python-pip xvfb\n",
    "* pip install dryscrpe"
   ]
  },
  {
   "cell_type": "markdown",
   "metadata": {},
   "source": [
    "### Scrape and store dynamic pages into files"
   ]
  },
  {
   "cell_type": "code",
   "execution_count": null,
   "metadata": {
    "collapsed": true
   },
   "outputs": [],
   "source": [
    "# coding: utf-8 \n",
    "from bs4 import BeautifulSoup as bs  #store dynamic pages into files\n",
    "import time\n",
    "import dryscrape\n",
    "\n",
    "url0 = \"/searchresults.html?aid=376390;label=bookings-naam-1gvwAanIQSGAF2rnkEExXAS72802166825%3Apl%3Ata%3Ap1%3Ap2%3Aac%3Aap1t1%3Aneg%3Afi%3Atikwd-65526620%3Alp9061285%3Ali%3Adec%3Adm;sid=9143a2e515657b5a5b8d864d03cc2546;checkin_month=12;checkin_monthday=15;checkin_year=2016;checkout_month=12;checkout_monthday=16;checkout_year=2016;city=20088325;class_interval=1;dtdisc=0;group_adults=2;group_children=0;hlrd=0;hyb_red=0;inac=0;label_click=undef;nha_red=0;no_rooms=1;postcard=0;redirected_from_city=0;redirected_from_landmark=0;redirected_from_region=0;review_score_group=empty;room1=A%2CA;sb_price_type=total;score_min=0;src=searchresults;src_elem=sb;ss=New+York+City;ss_all=0;ssb=empty;sshis=0;ssne=New+York+City;ssne_untouched=New+York+City;track_hp_back_button=1;rows=50;offset=\"\n",
    "url = \"http://www.booking.com\" + url0\n",
    "urlList = [url]\n",
    "n = 0\n",
    "for i in range(30):\n",
    "    n += 1\n",
    "    urlList.append(url+str(n*50)) #put all urls into a list\n",
    "\n",
    "count = 0\n",
    "for murl in urlList:\n",
    "    session = dryscrape.Session() #get data from each page\n",
    "    session.visit(murl)\n",
    "    response = session.body()\n",
    "    store pages into files\n",
    "    with open(\"bookout1/\"+\"page\"+str(count),\"w\" ) as fh:  #store pages into files named bookout1\n",
    "        fh.write(response)\n",
    "    count += 1"
   ]
  },
  {
   "cell_type": "markdown",
   "metadata": {},
   "source": [
    "### Get data of several variables"
   ]
  },
  {
   "cell_type": "code",
   "execution_count": null,
   "metadata": {
    "collapsed": true
   },
   "outputs": [],
   "source": [
    "# coding: utf-8   \n",
    "import urllib.request\n",
    "from bs4 import BeautifulSoup as bs\n",
    "import requests\n",
    "import time\n",
    "import re\n",
    "import pandas as pd\n",
    "from pandas import DataFrame\n",
    "#import dryscrape\n",
    "\n",
    "path0 = \"/home/zezhi/programming/python/final/bookout1/\" #change to your folder\n",
    "entries = []\n",
    "for i in range(30):\n",
    "    path = path0+\"page\"+str(i)   #get data from stored pages\n",
    "    data = \"\"\n",
    "    with open(path,\"r\") as fh:\n",
    "        data = fh.read()\n",
    "    soup = bs(data, \"html.parser\")\n",
    "\n",
    "    dds = soup.findAll(\"div\",{'class': 'sr_item'})  #get data of several variables\n",
    "    for dd in dds:\n",
    "        entry = {}\n",
    "        entry[\"name\"] = dd.find(\"span\",{\"class\",\"sr-hotel__name\"}).getText().strip()       \n",
    "        \n",
    "        star = dd.find(\"span\",{\"class\":\"invisible_spoken\"})\n",
    "        if star is None:\n",
    "            star = \"Not Available\"\n",
    "        else:\n",
    "            star1 =star.getText()\n",
    "            if re.search(\"star\", star1):\n",
    "                star2 = star.getText().strip()[0]\n",
    "                if  star2 in (\"1\",\"2\",\"3\",\"4\",\"5\"):\n",
    "                    entry[\"star\"] = float(star2)\n",
    "                \n",
    "        review = dd.find(\"span\",{\"class\": \"score_from_number_of_reviews\"})\n",
    "        if review is None:\n",
    "            review = \"Not Available\"\n",
    "        else:\n",
    "            review1 = review.getText()\n",
    "            a = review1.split()[0]\n",
    "            b = \"\"\n",
    "            for i in a:\n",
    "                if i != \",\":\n",
    "                    b += i\n",
    "            entry[\"review\"] = float(b)\n",
    "        \n",
    "        rating = dd.find(\"span\",{\"class\": \"rating notranslate\"})\n",
    "        if rating is None:\n",
    "            rating = \"Not Available\"\n",
    "        else:\n",
    "            entry[\"rating\"] = float(rating.getText().strip())\n",
    "            \n",
    "        price = dd.find(\"span\",{\"class\",\"toggle_price_per_night_or_stay\"})\n",
    "        if not(price is None):\n",
    "            price1 = price.getText().strip()[3:]\n",
    "            c = price1.split()[0]\n",
    "            d = \"\"\n",
    "            for i in c:\n",
    "                if i != \",\":\n",
    "                    d += i\n",
    "            entry[\"price\"] = float(d)\n",
    "        else:\n",
    "            price = \"Not Available\"\n",
    "\n",
    "        entry[\"address\"] = dd.find(\"div\",{'class': 'address'}).getText().strip().split(\"\\n\")[0]\n",
    "\n",
    "        entries.append(entry)\n",
    "\n",
    "# creat a dataframe to store data\n",
    "df1 = pd.DataFrame(entries,columns=[\"name\",\"star\",\"review\",\"rating\",\"price\",\"address\"])\n",
    "df1.to_csv('hotelfinal' + '.csv')"
   ]
  },
  {
   "cell_type": "code",
   "execution_count": null,
   "metadata": {
    "collapsed": true
   },
   "outputs": [],
   "source": []
  }
 ],
 "metadata": {
  "anaconda-cloud": {},
  "kernelspec": {
   "display_name": "Python [default]",
   "language": "python",
   "name": "python3"
  },
  "language_info": {
   "codemirror_mode": {
    "name": "ipython",
    "version": 3
   },
   "file_extension": ".py",
   "mimetype": "text/x-python",
   "name": "python",
   "nbconvert_exporter": "python",
   "pygments_lexer": "ipython3",
   "version": "3.5.2"
  }
 },
 "nbformat": 4,
 "nbformat_minor": 1
}
