{
 "cells": [
  {
   "cell_type": "markdown",
   "metadata": {},
   "source": [
    "##### Read Authdata"
   ]
  },
  {
   "cell_type": "code",
   "execution_count": 14,
   "metadata": {
    "collapsed": false
   },
   "outputs": [],
   "source": [
    "import twitter\n",
    "import tweepy\n",
    "import textblob\n",
    "\n",
    "def getAuthData(fn):\n",
    "    import csv\n",
    "    with open('./authdata/'+fn, 'r') as f:\n",
    "        reader = csv.reader(f)\n",
    "        your_list = list(reader)\n",
    "\n",
    "    authdata = {}   \n",
    "    for element in your_list:\n",
    "        authdata[element[0]] = element[1]\n",
    "\n",
    "    return authdata"
   ]
  },
  {
   "cell_type": "markdown",
   "metadata": {},
   "source": [
    "##### Get tweetdata - search term: hotel name"
   ]
  },
  {
   "cell_type": "code",
   "execution_count": 15,
   "metadata": {
    "collapsed": true
   },
   "outputs": [],
   "source": [
    "def getTweepyData(searchTerm, fileName):\n",
    "    auth = tweepy.OAuthHandler(CONSUMER_KEY, CONSUMER_SECRET)\n",
    "    auth.set_access_token(OAUTH_TOKEN,OAUTH_TOKEN_SECRET)\n",
    "    api = tweepy.API(auth)    \n",
    "    \n",
    "    tweet_cursor = tweepy.Cursor(api.search,q=searchTerm)\n",
    "    \n",
    "    tweetTexts = []\n",
    "    n=0\n",
    "    for tweet in tweet_cursor.items():    \n",
    "        if n < 100:    \n",
    "            tweetTexts.append(tweet.text) \n",
    "            n += 1\n",
    "        else: \n",
    "            break\n",
    "    #print (tweetTexts)\n",
    "    with open(\"twitter/\"+fileName,'w') as f:  \n",
    "        f.writelines(tweetTexts)"
   ]
  },
  {
   "cell_type": "code",
   "execution_count": 16,
   "metadata": {
    "collapsed": false
   },
   "outputs": [],
   "source": [
    "import pandas as pd\n",
    "for i in range(4):\n",
    "    i = i+1\n",
    "    authdata=getAuthData(\"authdata\"+str(i)+\".csv\")\n",
    "\n",
    "    CONSUMER_KEY = authdata['CONSUMER_KEY']\n",
    "    CONSUMER_SECRET = authdata['CONSUMER_SECRET']\n",
    "    OAUTH_TOKEN = authdata['OAUTH_TOKEN']\n",
    "    OAUTH_TOKEN_SECRET = authdata['OAUTH_TOKEN_SECRET']\n",
    "    \n",
    "    myDF = pd.read_csv(\"hotel.csv\")\n",
    "    hotelList = [i.replace(\"/\",\" \") for i in myDF[\"name\"]][(i-1)*40:i*40] \n",
    "    txtList = [i+\".txt\" for i in hotelList]\n",
    "\n",
    "    for i in hotelList:\n",
    "        getTweepyData(str(i),str(i)+\".txt\")    "
   ]
  },
  {
   "cell_type": "markdown",
   "metadata": {},
   "source": [
    "##### Clean the data"
   ]
  },
  {
   "cell_type": "code",
   "execution_count": 17,
   "metadata": {
    "collapsed": true
   },
   "outputs": [],
   "source": [
    "def remove_punctuation(s):\n",
    "    punctuation = \"!\\\"#$%&'()*+,-./:;<=>?@[\\\\]^_`{|}~\"\n",
    "    s_sans_punct = \"\"\n",
    "    for letter in s:\n",
    "        if (letter not in punctuation) and (letter in \"abcdefghijklmnopqrstuvwxyz \"):\n",
    "            s_sans_punct += letter\n",
    "    return s_sans_punct\n",
    "0\n",
    "def getLowerCaseText(status_texts):\n",
    "    lowered_texts = []\n",
    "    for texts in status_texts:\n",
    "        try: \n",
    "            mytext = str(texts.lower())\n",
    "            lowered_texts.append(mytext)\n",
    "        except:\n",
    "            pass\n",
    "    return lowered_texts\n",
    "\n",
    "def removeStopwords(lowered_text):\n",
    "    stopword=['he','she','is','and','the','to','of','it','in','you','or',\"th\"]\n",
    "    remove_words=[]\n",
    "    remove_text= [text for text in lowered_text if text not in stopword]\n",
    "    remove_words.append(remove_text)\n",
    "    \n",
    "    return remove_words\n",
    "\n",
    "def getCleanedTweets(remove_words):\n",
    "    cleanedTweets = []\n",
    "    for text in remove_words:\n",
    "        wordlist = str(text).split()\n",
    "        wordlist_nopun = [ str(remove_punctuation(for_a_word)) for for_a_word in wordlist ]\n",
    "        cleanedTweets.append(wordlist_nopun)\n",
    "    return cleanedTweets\n",
    "\n",
    "\n",
    "def GetSentimentScores(cleanedTweets):\n",
    "    sentiment = []\n",
    "    for eachTweet in cleanedTweets:\n",
    "        analysis = textblob.TextBlob(str(eachTweet))   \n",
    "        sentiment.append(analysis.sentiment.polarity)\n",
    "    return sentiment"
   ]
  },
  {
   "cell_type": "markdown",
   "metadata": {},
   "source": [
    "##### Calculate the sentiment scores"
   ]
  },
  {
   "cell_type": "code",
   "execution_count": 18,
   "metadata": {
    "collapsed": false
   },
   "outputs": [],
   "source": [
    "import textblob\n",
    "def getScore(fileName):    \n",
    "    with open(fileName,'r') as f:\n",
    "        tweetTexts = f.readlines()\n",
    "    lowered_texts = getLowerCaseText(tweetTexts)   \n",
    "    remove_texts = removeStopwords(lowered_texts)\n",
    "    cleanedTweets = getCleanedTweets(remove_texts) \n",
    "    \n",
    "    sentimentList = GetSentimentScores(cleanedTweets)\n",
    "\n",
    "    score = sum(sentimentList)/len(sentimentList)\n",
    "    return(score)\n",
    "#getScore(\"twitter/Dream Downtown.txt\")"
   ]
  },
  {
   "cell_type": "code",
   "execution_count": 19,
   "metadata": {
    "collapsed": false
   },
   "outputs": [],
   "source": [
    "hotelList = [i.replace(\"/\",\" \") for i in myDF[\"name\"]][0:120] #######\n",
    "txtList = [i+\".txt\" for i in hotelList]\n",
    "scoreList = []"
   ]
  },
  {
   "cell_type": "code",
   "execution_count": 20,
   "metadata": {
    "collapsed": false
   },
   "outputs": [
    {
     "name": "stdout",
     "output_type": "stream",
     "text": [
      "120\n"
     ]
    }
   ],
   "source": [
    "import csv\n",
    "import pandas as pd\n",
    "#scoreList = []\n",
    "for i in txtList:\n",
    "    score = \"twitter/\" + str(i) \n",
    "    scoreList.append(getScore(score))\n",
    "print (len(scoreList))    "
   ]
  },
  {
   "cell_type": "markdown",
   "metadata": {},
   "source": [
    "##### Sentiment score is from -1 to 1. Then transform rating to -1 to 1."
   ]
  },
  {
   "cell_type": "code",
   "execution_count": 21,
   "metadata": {
    "collapsed": false
   },
   "outputs": [
    {
     "data": {
      "text/plain": [
       "(0, 120)"
      ]
     },
     "execution_count": 21,
     "metadata": {},
     "output_type": "execute_result"
    },
    {
     "data": {
      "image/png": "[encoded data removed]",
      "text/plain": [
       "<matplotlib.figure.Figure at 0x1182a80f0>"
      ]
     },
     "metadata": {},
     "output_type": "display_data"
    }
   ],
   "source": [
    "%matplotlib inline\n",
    "import matplotlib.pyplot as plt\n",
    "import matplotlib\n",
    "matplotlib.style.use('ggplot') \n",
    "\n",
    "ratingList = [(i-6.5)/10 for i in myDF['rating'][0:120]]   #######\n",
    "#print (ratingList)\n",
    "data = {\"Score\":scoreList[0:120],\"Rating\":ratingList}   #######\n",
    "\n",
    "hotelList = [i.replace(\"/\",\" \") for i in myDF[\"name\"]][0:120] ######\n",
    "\n",
    "DF = pd.DataFrame(data,index=[i for i in range(len(hotelList))]) ###\n",
    "\n",
    "#DF.plot(kind=\"barh\")\n",
    "DF.plot(kind=\"line\")\n",
    "plt.title(\"Hotel Sentiment Score and Rating in Booking\")\n",
    "plt.xlabel(\"Score\")\n",
    "#plt.xlim([0,120])\n",
    "plt.xlim([0,120])"
   ]
  },
  {
   "cell_type": "markdown",
   "metadata": {},
   "source": [
    "##### Linear regression: sentiment scores & rating"
   ]
  },
  {
   "cell_type": "code",
   "execution_count": 22,
   "metadata": {
    "collapsed": true
   },
   "outputs": [],
   "source": [
    "TXT = []\n",
    "for txt in txtList:\n",
    "    with open(\"twitter/\"+txt,\"r\") as f:\n",
    "        TXT.append(f.readlines())\n",
    "with open(\"review.txt\",'w') as fn:\n",
    "    fn.write(str(TXT))\n",
    "\n",
    "with open(\"review.txt\",'r') as f:\n",
    "    tweetTexts = f.readlines()        \n",
    "\n",
    "\n",
    "lowered_texts = getLowerCaseText(tweetTexts)\n",
    "remove_texts = removeStopwords(lowered_texts)\n",
    "cleanedTweets = getCleanedTweets(remove_texts)\n",
    "\n",
    "def cleanTEXT(cleanedTweets):\n",
    "    import re\n",
    "    t = str(cleanedTweets)\n",
    "    p = re.compile('\\w{3,}')\n",
    "    txt = p.findall(t)\n",
    "\n",
    "    with open(\"stopwords_en.txt\",\"r\") as f:\n",
    "        sw = f.readlines()\n",
    "        stopword = [n.strip() for n in sw]\n",
    "        stopword.append(\"th\")\n",
    "    \n",
    "    return ([i for i in txt if i not in stopword])\n",
    "\n",
    "cleanTxt = cleanTEXT(cleanedTweets)\n",
    "#print (cleanTxt)\n",
    "with open(\"review_clean.txt\",\"a\") as f:\n",
    "    for i in cleanTxt:\n",
    "        f.write(i+' ')"
   ]
  },
  {
   "cell_type": "code",
   "execution_count": 61,
   "metadata": {
    "collapsed": false
   },
   "outputs": [
    {
     "name": "stdout",
     "output_type": "stream",
     "text": [
      "Intercept :  0.172513502006\n",
      "Slope :  [ 0.          0.01528994]\n",
      "R-squared: 0.001054\n"
     ]
    }
   ],
   "source": [
    "import pandas as pd\n",
    "mydf1 = pd.DataFrame({\"score\":scoreList[0:120],\"rating\":ratingList})  ##########\n",
    "mydf1 = mydf1.dropna()\n",
    "#print (mydf)\n",
    "def regression():\n",
    "    import numpy\n",
    "    from sklearn import linear_model\n",
    "    x1 = mydf1[\"score\"]\n",
    "    x1 = x1.tolist()\n",
    "    y = mydf1[\"rating\"]\n",
    "    y = y.tolist()\n",
    "    \n",
    "    c = numpy.ones(len(x1))\n",
    "    X = numpy.concatenate(([c],[x1]), axis=0).T\n",
    "\n",
    "    model = linear_model.LinearRegression(fit_intercept = True)\n",
    "    fit = model.fit(X,y)\n",
    "    b = fit.coef_\n",
    "    B = fit.intercept_\n",
    "    \n",
    "    print(\"Intercept : \",fit.intercept_)\n",
    "    print(\"Slope : \", fit.coef_)\n",
    "\n",
    "    from sklearn.metrics import r2_score\n",
    "    pred = model.predict(X)\n",
    "    r2 = r2_score(y,pred) \n",
    "    print ('R-squared: {:.6f}'.format(r2))\n",
    "\n",
    "regression()    "
   ]
  },
  {
   "cell_type": "markdown",
   "metadata": {
    "collapsed": true
   },
   "source": [
    "##### Get twitter data - search term: hotel NYC and save then in txt file."
   ]
  },
  {
   "cell_type": "code",
   "execution_count": 25,
   "metadata": {
    "collapsed": true
   },
   "outputs": [],
   "source": [
    "def getAuthData(fn):\n",
    "    import csv\n",
    "    with open('./authdata/'+fn, 'r') as f:\n",
    "        reader = csv.reader(f)\n",
    "        your_list = list(reader)\n",
    "\n",
    "    authdata = {}   \n",
    "    for element in your_list:\n",
    "        authdata[element[0]] = element[1]\n",
    "    return authdata\n",
    "\n",
    "authdata=getAuthData(\"authdata5.csv\")\n",
    "CONSUMER_KEY = authdata['CONSUMER_KEY']\n",
    "CONSUMER_SECRET = authdata['CONSUMER_SECRET']\n",
    "OAUTH_TOKEN = authdata['OAUTH_TOKEN']\n",
    "OAUTH_TOKEN_SECRET = authdata['OAUTH_TOKEN_SECRET']"
   ]
  },
  {
   "cell_type": "code",
   "execution_count": 26,
   "metadata": {
    "collapsed": true
   },
   "outputs": [],
   "source": [
    "def getTweepyData_Hotel(searchTerm, fileName):\n",
    "    auth = tweepy.OAuthHandler(CONSUMER_KEY, CONSUMER_SECRET)\n",
    "    auth.set_access_token(OAUTH_TOKEN,OAUTH_TOKEN_SECRET)\n",
    "    api = tweepy.API(auth)    \n",
    "    \n",
    "    tweet_cursor = tweepy.Cursor(api.search,q=searchTerm)\n",
    "    \n",
    "    tweetTexts = []\n",
    "    n=0\n",
    "    for tweet in tweet_cursor.items():    \n",
    "        if n < 2000:    \n",
    "            tweetTexts.append(tweet.text) \n",
    "            n += 1\n",
    "        else: \n",
    "            break\n",
    "    print (n)        \n",
    "    #print (tweetTexts)\n",
    "    with open(fileName,'w') as f:  \n",
    "        f.writelines(tweetTexts)"
   ]
  },
  {
   "cell_type": "code",
   "execution_count": 27,
   "metadata": {
    "collapsed": false
   },
   "outputs": [
    {
     "name": "stdout",
     "output_type": "stream",
     "text": [
      "2000\n"
     ]
    }
   ],
   "source": [
    "getTweepyData_Hotel(\"hotel NYC\", \"wordcloud_hotel.txt\")"
   ]
  },
  {
   "cell_type": "code",
   "execution_count": 28,
   "metadata": {
    "collapsed": true
   },
   "outputs": [],
   "source": [
    "with open(\"wordcloud_hotel.txt\",'r') as f:\n",
    "    hotelTexts = f.readlines()        \n",
    "\n",
    "hotelTexts = getLowerCaseText(hotelTexts)\n",
    "hotelTexts = removeStopwords(hotelTexts)\n",
    "hotelTexts = getCleanedTweets(hotelTexts)\n",
    "\n",
    "def cleanTEXT(cleanedTweets):\n",
    "    import re\n",
    "    t = str(cleanedTweets)\n",
    "    p = re.compile('\\w{3,}')\n",
    "    txt = p.findall(t)\n",
    "\n",
    "    with open(\"stopwords_en.txt\",\"r\") as f:\n",
    "        sw = f.readlines()\n",
    "        stopword = [n.strip() for n in sw]\n",
    "        stopword.append(\"th\")\n",
    "    \n",
    "    return ([i for i in txt if i not in stopword])\n",
    "\n",
    "cleanTxt = cleanTEXT(hotelTexts)\n",
    "#print (cleanTxt)\n",
    "with open(\"wordcloud_hotel_clean.txt\",\"a\") as f:\n",
    "    for i in cleanTxt:\n",
    "        f.write(i+' ')"
   ]
  },
  {
   "cell_type": "code",
   "execution_count": null,
   "metadata": {
    "collapsed": true
   },
   "outputs": [],
   "source": []
  }
 ],
 "metadata": {
  "anaconda-cloud": {},
  "kernelspec": {
   "display_name": "Python [default]",
   "language": "python",
   "name": "python3"
  },
  "language_info": {
   "codemirror_mode": {
    "name": "ipython",
    "version": 3
   },
   "file_extension": ".py",
   "mimetype": "text/x-python",
   "name": "python",
   "nbconvert_exporter": "python",
   "pygments_lexer": "ipython3",
   "version": "3.5.2"
  }
 },
 "nbformat": 4,
 "nbformat_minor": 1
}
